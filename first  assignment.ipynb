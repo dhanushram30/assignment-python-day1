{
 "cells": [
  {
   "cell_type": "code",
   "execution_count": 1,
   "id": "b567d41d",
   "metadata": {},
   "outputs": [
    {
     "name": "stdout",
     "output_type": "stream",
     "text": [
      "30\n"
     ]
    }
   ],
   "source": [
    "a = 10;\n",
    "b = 20;\n",
    "\n",
    "print(a+b);"
   ]
  },
  {
   "cell_type": "code",
   "execution_count": 2,
   "id": "b106b4db",
   "metadata": {},
   "outputs": [
    {
     "name": "stdout",
     "output_type": "stream",
     "text": [
      "string0123456789\n"
     ]
    }
   ],
   "source": [
    "string = 'string'\n",
    "for i in range(10):\n",
    "    string +=str(i)\n",
    "print (string)"
   ]
  },
  {
   "cell_type": "code",
   "execution_count": 3,
   "id": "de8d63e5",
   "metadata": {},
   "outputs": [
    {
     "name": "stdout",
     "output_type": "stream",
     "text": [
      "the number is10 and second number  is 20\n"
     ]
    }
   ],
   "source": [
    "number = 10;\n",
    "numbers = 20;\n",
    "print(f\"the number is{number} and second number  is {numbers}\")"
   ]
  },
  {
   "cell_type": "code",
   "execution_count": 4,
   "id": "d8cc8345",
   "metadata": {},
   "outputs": [
    {
     "name": "stdout",
     "output_type": "stream",
     "text": [
      "10 20\n"
     ]
    }
   ],
   "source": [
    "a=10\n",
    "b=20\n",
    "print(a, b)"
   ]
  },
  {
   "cell_type": "code",
   "execution_count": null,
   "id": "499991bb",
   "metadata": {},
   "outputs": [],
   "source": [
    "print(f\"Hello\\nWorld!\")"
   ]
  }
 ],
 "metadata": {
  "kernelspec": {
   "display_name": "Python 3",
   "language": "python",
   "name": "python3"
  },
  "language_info": {
   "codemirror_mode": {
    "name": "ipython",
    "version": 3
   },
   "file_extension": ".py",
   "mimetype": "text/x-python",
   "name": "python",
   "nbconvert_exporter": "python",
   "pygments_lexer": "ipython3",
   "version": "3.8.8"
  }
 },
 "nbformat": 4,
 "nbformat_minor": 5
}
